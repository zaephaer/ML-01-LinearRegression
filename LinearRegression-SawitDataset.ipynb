{
 "cells": [
  {
   "cell_type": "markdown",
   "metadata": {},
   "source": [
    "# Linear Regression"
   ]
  },
  {
   "cell_type": "markdown",
   "metadata": {},
   "source": [
    "Objective: Predict SoyaBeanOil price from PalmOilPrice  \n",
    "Dataset: sawit.csv  \n",
    "Ref: NA"
   ]
  },
  {
   "cell_type": "code",
   "execution_count": 1,
   "metadata": {},
   "outputs": [
    {
     "name": "stdout",
     "output_type": "stream",
     "text": [
      "Dataset size: (156, 10)\n"
     ]
    },
    {
     "data": {
      "text/html": [
       "<div>\n",
       "<style scoped>\n",
       "    .dataframe tbody tr th:only-of-type {\n",
       "        vertical-align: middle;\n",
       "    }\n",
       "\n",
       "    .dataframe tbody tr th {\n",
       "        vertical-align: top;\n",
       "    }\n",
       "\n",
       "    .dataframe thead th {\n",
       "        text-align: right;\n",
       "    }\n",
       "</style>\n",
       "<table border=\"1\" class=\"dataframe\">\n",
       "  <thead>\n",
       "    <tr style=\"text-align: right;\">\n",
       "      <th></th>\n",
       "      <th>MonthYear</th>\n",
       "      <th>CrudePalmOil</th>\n",
       "      <th>SoyabeanOil</th>\n",
       "      <th>GroundnutOil</th>\n",
       "      <th>SunflowerOil</th>\n",
       "      <th>RapeseedOil</th>\n",
       "      <th>CoconutOil</th>\n",
       "      <th>FishOil</th>\n",
       "      <th>Tallow</th>\n",
       "      <th>Lard</th>\n",
       "    </tr>\n",
       "  </thead>\n",
       "  <tbody>\n",
       "    <tr>\n",
       "      <th>0</th>\n",
       "      <td>01/01/2006</td>\n",
       "      <td>424</td>\n",
       "      <td>532</td>\n",
       "      <td>930</td>\n",
       "      <td>591</td>\n",
       "      <td>733</td>\n",
       "      <td>569</td>\n",
       "      <td>750</td>\n",
       "      <td>445</td>\n",
       "      <td>407</td>\n",
       "    </tr>\n",
       "    <tr>\n",
       "      <th>1</th>\n",
       "      <td>01/02/2006</td>\n",
       "      <td>445</td>\n",
       "      <td>535</td>\n",
       "      <td>921</td>\n",
       "      <td>595</td>\n",
       "      <td>723</td>\n",
       "      <td>591</td>\n",
       "      <td>761</td>\n",
       "      <td>430</td>\n",
       "      <td>405</td>\n",
       "    </tr>\n",
       "    <tr>\n",
       "      <th>2</th>\n",
       "      <td>01/03/2006</td>\n",
       "      <td>440</td>\n",
       "      <td>539</td>\n",
       "      <td>902</td>\n",
       "      <td>606</td>\n",
       "      <td>742</td>\n",
       "      <td>575</td>\n",
       "      <td>807</td>\n",
       "      <td>410</td>\n",
       "      <td>431</td>\n",
       "    </tr>\n",
       "    <tr>\n",
       "      <th>3</th>\n",
       "      <td>01/04/2006</td>\n",
       "      <td>439</td>\n",
       "      <td>540</td>\n",
       "      <td>899</td>\n",
       "      <td>659</td>\n",
       "      <td>796</td>\n",
       "      <td>578</td>\n",
       "      <td>840</td>\n",
       "      <td>394</td>\n",
       "      <td>437</td>\n",
       "    </tr>\n",
       "    <tr>\n",
       "      <th>4</th>\n",
       "      <td>01/05/2006</td>\n",
       "      <td>440</td>\n",
       "      <td>588</td>\n",
       "      <td>892</td>\n",
       "      <td>679</td>\n",
       "      <td>838</td>\n",
       "      <td>583</td>\n",
       "      <td>841</td>\n",
       "      <td>408</td>\n",
       "      <td>447</td>\n",
       "    </tr>\n",
       "  </tbody>\n",
       "</table>\n",
       "</div>"
      ],
      "text/plain": [
       "    MonthYear  CrudePalmOil  SoyabeanOil  GroundnutOil  SunflowerOil  \\\n",
       "0  01/01/2006           424          532           930           591   \n",
       "1  01/02/2006           445          535           921           595   \n",
       "2  01/03/2006           440          539           902           606   \n",
       "3  01/04/2006           439          540           899           659   \n",
       "4  01/05/2006           440          588           892           679   \n",
       "\n",
       "   RapeseedOil  CoconutOil  FishOil  Tallow  Lard  \n",
       "0          733         569      750     445   407  \n",
       "1          723         591      761     430   405  \n",
       "2          742         575      807     410   431  \n",
       "3          796         578      840     394   437  \n",
       "4          838         583      841     408   447  "
      ]
     },
     "execution_count": 1,
     "metadata": {},
     "output_type": "execute_result"
    }
   ],
   "source": [
    "import matplotlib.pyplot as plot\n",
    "import pandas as pd\n",
    "import pylab as pl\n",
    "import numpy as np\n",
    "%matplotlib inline\n",
    "\n",
    "pd.options.display.float_format = '{:,.2f}'.format\n",
    "float_formatter = lambda x: \"%.4f\" % x\n",
    "np.set_printoptions(formatter={'float_kind':float_formatter})\n",
    "\n",
    "from sklearn.model_selection import train_test_split\n",
    "from sklearn.linear_model import LinearRegression\n",
    "\n",
    "data = pd.read_csv('sawit.csv')\n",
    "print('Dataset size:', data.shape)\n",
    "data.head()"
   ]
  },
  {
   "cell_type": "code",
   "execution_count": 2,
   "metadata": {},
   "outputs": [
    {
     "data": {
      "text/html": [
       "<div>\n",
       "<style scoped>\n",
       "    .dataframe tbody tr th:only-of-type {\n",
       "        vertical-align: middle;\n",
       "    }\n",
       "\n",
       "    .dataframe tbody tr th {\n",
       "        vertical-align: top;\n",
       "    }\n",
       "\n",
       "    .dataframe thead th {\n",
       "        text-align: right;\n",
       "    }\n",
       "</style>\n",
       "<table border=\"1\" class=\"dataframe\">\n",
       "  <thead>\n",
       "    <tr style=\"text-align: right;\">\n",
       "      <th></th>\n",
       "      <th>CrudePalmOil</th>\n",
       "      <th>SoyabeanOil</th>\n",
       "      <th>GroundnutOil</th>\n",
       "      <th>SunflowerOil</th>\n",
       "      <th>RapeseedOil</th>\n",
       "      <th>CoconutOil</th>\n",
       "      <th>FishOil</th>\n",
       "      <th>Tallow</th>\n",
       "      <th>Lard</th>\n",
       "    </tr>\n",
       "  </thead>\n",
       "  <tbody>\n",
       "    <tr>\n",
       "      <th>count</th>\n",
       "      <td>156.00</td>\n",
       "      <td>156.00</td>\n",
       "      <td>156.00</td>\n",
       "      <td>156.00</td>\n",
       "      <td>156.00</td>\n",
       "      <td>156.00</td>\n",
       "      <td>156.00</td>\n",
       "      <td>156.00</td>\n",
       "      <td>156.00</td>\n",
       "    </tr>\n",
       "    <tr>\n",
       "      <th>mean</th>\n",
       "      <td>777.48</td>\n",
       "      <td>929.63</td>\n",
       "      <td>1,387.40</td>\n",
       "      <td>969.83</td>\n",
       "      <td>973.12</td>\n",
       "      <td>1,127.04</td>\n",
       "      <td>1,454.44</td>\n",
       "      <td>836.81</td>\n",
       "      <td>777.35</td>\n",
       "    </tr>\n",
       "    <tr>\n",
       "      <th>std</th>\n",
       "      <td>230.76</td>\n",
       "      <td>262.23</td>\n",
       "      <td>546.80</td>\n",
       "      <td>339.96</td>\n",
       "      <td>263.38</td>\n",
       "      <td>394.25</td>\n",
       "      <td>496.34</td>\n",
       "      <td>247.82</td>\n",
       "      <td>234.20</td>\n",
       "    </tr>\n",
       "    <tr>\n",
       "      <th>min</th>\n",
       "      <td>0.00</td>\n",
       "      <td>0.00</td>\n",
       "      <td>0.00</td>\n",
       "      <td>0.00</td>\n",
       "      <td>0.00</td>\n",
       "      <td>0.00</td>\n",
       "      <td>0.00</td>\n",
       "      <td>0.00</td>\n",
       "      <td>0.00</td>\n",
       "    </tr>\n",
       "    <tr>\n",
       "      <th>25%</th>\n",
       "      <td>659.50</td>\n",
       "      <td>787.50</td>\n",
       "      <td>1,201.50</td>\n",
       "      <td>800.00</td>\n",
       "      <td>814.00</td>\n",
       "      <td>839.50</td>\n",
       "      <td>977.25</td>\n",
       "      <td>734.50</td>\n",
       "      <td>629.25</td>\n",
       "    </tr>\n",
       "    <tr>\n",
       "      <th>50%</th>\n",
       "      <td>761.00</td>\n",
       "      <td>880.50</td>\n",
       "      <td>1,351.50</td>\n",
       "      <td>880.00</td>\n",
       "      <td>895.00</td>\n",
       "      <td>1,127.00</td>\n",
       "      <td>1,562.00</td>\n",
       "      <td>834.50</td>\n",
       "      <td>753.00</td>\n",
       "    </tr>\n",
       "    <tr>\n",
       "      <th>75%</th>\n",
       "      <td>905.25</td>\n",
       "      <td>1,139.25</td>\n",
       "      <td>1,655.75</td>\n",
       "      <td>1,211.25</td>\n",
       "      <td>1,184.75</td>\n",
       "      <td>1,436.75</td>\n",
       "      <td>1,785.75</td>\n",
       "      <td>1,022.00</td>\n",
       "      <td>928.50</td>\n",
       "    </tr>\n",
       "    <tr>\n",
       "      <th>max</th>\n",
       "      <td>1,292.00</td>\n",
       "      <td>1,537.00</td>\n",
       "      <td>2,555.00</td>\n",
       "      <td>2,045.00</td>\n",
       "      <td>1,577.00</td>\n",
       "      <td>2,256.00</td>\n",
       "      <td>2,400.00</td>\n",
       "      <td>1,363.00</td>\n",
       "      <td>1,392.00</td>\n",
       "    </tr>\n",
       "  </tbody>\n",
       "</table>\n",
       "</div>"
      ],
      "text/plain": [
       "       CrudePalmOil  SoyabeanOil  GroundnutOil  SunflowerOil  RapeseedOil  \\\n",
       "count        156.00       156.00        156.00        156.00       156.00   \n",
       "mean         777.48       929.63      1,387.40        969.83       973.12   \n",
       "std          230.76       262.23        546.80        339.96       263.38   \n",
       "min            0.00         0.00          0.00          0.00         0.00   \n",
       "25%          659.50       787.50      1,201.50        800.00       814.00   \n",
       "50%          761.00       880.50      1,351.50        880.00       895.00   \n",
       "75%          905.25     1,139.25      1,655.75      1,211.25     1,184.75   \n",
       "max        1,292.00     1,537.00      2,555.00      2,045.00     1,577.00   \n",
       "\n",
       "       CoconutOil  FishOil   Tallow     Lard  \n",
       "count      156.00   156.00   156.00   156.00  \n",
       "mean     1,127.04 1,454.44   836.81   777.35  \n",
       "std        394.25   496.34   247.82   234.20  \n",
       "min          0.00     0.00     0.00     0.00  \n",
       "25%        839.50   977.25   734.50   629.25  \n",
       "50%      1,127.00 1,562.00   834.50   753.00  \n",
       "75%      1,436.75 1,785.75 1,022.00   928.50  \n",
       "max      2,256.00 2,400.00 1,363.00 1,392.00  "
      ]
     },
     "execution_count": 2,
     "metadata": {},
     "output_type": "execute_result"
    }
   ],
   "source": [
    "data.describe()"
   ]
  },
  {
   "cell_type": "markdown",
   "metadata": {},
   "source": [
    "## Correlation"
   ]
  },
  {
   "cell_type": "code",
   "execution_count": 3,
   "metadata": {},
   "outputs": [
    {
     "data": {
      "image/png": "[encoded data removed]",
      "text/plain": [
       "<Figure size 1152x864 with 2 Axes>"
      ]
     },
     "metadata": {
      "needs_background": "light"
     },
     "output_type": "display_data"
    }
   ],
   "source": [
    "import seaborn as sns\n",
    "plot.figure(figsize=(16,12))\n",
    "sns.heatmap(data=data.iloc[:,1:].corr(),annot=True,fmt='.2f',cmap='coolwarm')\n",
    "plot.show()"
   ]
  },
  {
   "cell_type": "code",
   "execution_count": 4,
   "metadata": {},
   "outputs": [
    {
     "data": {
      "text/plain": [
       "SoyabeanOil    1.00\n",
       "RapeseedOil    0.97\n",
       "CrudePalmOil   0.95\n",
       "Lard           0.94\n",
       "Tallow         0.87\n",
       "SunflowerOil   0.84\n",
       "CoconutOil     0.59\n",
       "FishOil        0.53\n",
       "GroundnutOil   0.40\n",
       "Name: SoyabeanOil, dtype: float64"
      ]
     },
     "execution_count": 4,
     "metadata": {},
     "output_type": "execute_result"
    }
   ],
   "source": [
    "corr_rank = data.corr()\n",
    "corr_rank[\"SoyabeanOil\"].sort_values(ascending=False)"
   ]
  },
  {
   "cell_type": "markdown",
   "metadata": {},
   "source": [
    "## Feature and Target"
   ]
  },
  {
   "cell_type": "code",
   "execution_count": 5,
   "metadata": {},
   "outputs": [
    {
     "data": {
      "text/html": [
       "<div>\n",
       "<style scoped>\n",
       "    .dataframe tbody tr th:only-of-type {\n",
       "        vertical-align: middle;\n",
       "    }\n",
       "\n",
       "    .dataframe tbody tr th {\n",
       "        vertical-align: top;\n",
       "    }\n",
       "\n",
       "    .dataframe thead th {\n",
       "        text-align: right;\n",
       "    }\n",
       "</style>\n",
       "<table border=\"1\" class=\"dataframe\">\n",
       "  <thead>\n",
       "    <tr style=\"text-align: right;\">\n",
       "      <th></th>\n",
       "      <th>SoyabeanOil</th>\n",
       "      <th>RapeseedOil</th>\n",
       "    </tr>\n",
       "  </thead>\n",
       "  <tbody>\n",
       "    <tr>\n",
       "      <th>0</th>\n",
       "      <td>532</td>\n",
       "      <td>733</td>\n",
       "    </tr>\n",
       "    <tr>\n",
       "      <th>1</th>\n",
       "      <td>535</td>\n",
       "      <td>723</td>\n",
       "    </tr>\n",
       "    <tr>\n",
       "      <th>2</th>\n",
       "      <td>539</td>\n",
       "      <td>742</td>\n",
       "    </tr>\n",
       "    <tr>\n",
       "      <th>3</th>\n",
       "      <td>540</td>\n",
       "      <td>796</td>\n",
       "    </tr>\n",
       "    <tr>\n",
       "      <th>4</th>\n",
       "      <td>588</td>\n",
       "      <td>838</td>\n",
       "    </tr>\n",
       "  </tbody>\n",
       "</table>\n",
       "</div>"
      ],
      "text/plain": [
       "   SoyabeanOil  RapeseedOil\n",
       "0          532          733\n",
       "1          535          723\n",
       "2          539          742\n",
       "3          540          796\n",
       "4          588          838"
      ]
     },
     "execution_count": 5,
     "metadata": {},
     "output_type": "execute_result"
    }
   ],
   "source": [
    "data.drop(['MonthYear','GroundnutOil','SunflowerOil','CrudePalmOil','CoconutOil','FishOil','Tallow','Lard'],axis=1,inplace=True)\n",
    "data.head()"
   ]
  },
  {
   "cell_type": "code",
   "execution_count": 6,
   "metadata": {},
   "outputs": [
    {
     "data": {
      "text/html": [
       "<div>\n",
       "<style scoped>\n",
       "    .dataframe tbody tr th:only-of-type {\n",
       "        vertical-align: middle;\n",
       "    }\n",
       "\n",
       "    .dataframe tbody tr th {\n",
       "        vertical-align: top;\n",
       "    }\n",
       "\n",
       "    .dataframe thead th {\n",
       "        text-align: right;\n",
       "    }\n",
       "</style>\n",
       "<table border=\"1\" class=\"dataframe\">\n",
       "  <thead>\n",
       "    <tr style=\"text-align: right;\">\n",
       "      <th></th>\n",
       "      <th>RapeseedOil</th>\n",
       "      <th>SoyabeanOil</th>\n",
       "    </tr>\n",
       "  </thead>\n",
       "  <tbody>\n",
       "    <tr>\n",
       "      <th>0</th>\n",
       "      <td>733</td>\n",
       "      <td>532</td>\n",
       "    </tr>\n",
       "    <tr>\n",
       "      <th>1</th>\n",
       "      <td>723</td>\n",
       "      <td>535</td>\n",
       "    </tr>\n",
       "    <tr>\n",
       "      <th>2</th>\n",
       "      <td>742</td>\n",
       "      <td>539</td>\n",
       "    </tr>\n",
       "    <tr>\n",
       "      <th>3</th>\n",
       "      <td>796</td>\n",
       "      <td>540</td>\n",
       "    </tr>\n",
       "    <tr>\n",
       "      <th>4</th>\n",
       "      <td>838</td>\n",
       "      <td>588</td>\n",
       "    </tr>\n",
       "  </tbody>\n",
       "</table>\n",
       "</div>"
      ],
      "text/plain": [
       "   RapeseedOil  SoyabeanOil\n",
       "0          733          532\n",
       "1          723          535\n",
       "2          742          539\n",
       "3          796          540\n",
       "4          838          588"
      ]
     },
     "execution_count": 6,
     "metadata": {},
     "output_type": "execute_result"
    }
   ],
   "source": [
    "def change_column_order(data, col_name, index):\n",
    "    cols = data.columns.tolist()\n",
    "    cols.remove(col_name)\n",
    "    cols.insert(index, col_name)\n",
    "    return data[cols]\n",
    "\n",
    "data = change_column_order(data, 'RapeseedOil', 0)\n",
    "data.head()"
   ]
  },
  {
   "cell_type": "code",
   "execution_count": 7,
   "metadata": {},
   "outputs": [],
   "source": [
    "#define feature and target data\n",
    "x = data.iloc[:,:-1].values\n",
    "y = data.iloc[:,1].values\n",
    "\n",
    "#split data to 10-test, 2-train\n",
    "xTrain, xTest, yTrain, yTest = train_test_split(x,y,test_size = 1/3, random_state=0)"
   ]
  },
  {
   "cell_type": "markdown",
   "metadata": {},
   "source": [
    "## Linear Regression"
   ]
  },
  {
   "cell_type": "code",
   "execution_count": 8,
   "metadata": {},
   "outputs": [
    {
     "data": {
      "image/png": "[encoded data removed]",
      "text/plain": [
       "<Figure size 432x288 with 1 Axes>"
      ]
     },
     "metadata": {
      "needs_background": "light"
     },
     "output_type": "display_data"
    }
   ],
   "source": [
    "#linear Regression\n",
    "lr = LinearRegression()\n",
    "lr.fit(xTrain, yTrain)\n",
    "yPred = lr.predict(xTest)\n",
    "\n",
    "#plot chart \n",
    "plot.scatter(xTrain, yTrain, color='red')\n",
    "plot.plot(xTrain, lr.predict(xTrain),color='blue')\n",
    "plot.title('RapeSeedOil vs SoyaBeanOil')\n",
    "plot.xlabel('RapeSeedOil')\n",
    "plot.ylabel('SoyaBeanOil')\n",
    "plot.show()"
   ]
  },
  {
   "cell_type": "code",
   "execution_count": 9,
   "metadata": {},
   "outputs": [
    {
     "name": "stdout",
     "output_type": "stream",
     "text": [
      "Model score : 0.9455\n",
      "Coef        : [0.9776]\n",
      "Intercept   : -23.8953\n"
     ]
    }
   ],
   "source": [
    "#print model score, coef and intercept\n",
    "print('Model score :', round(lr.score(xTrain, yTrain),4))\n",
    "print('Coef        :', lr.coef_)\n",
    "print('Intercept   :', round(lr.intercept_,4))"
   ]
  },
  {
   "cell_type": "markdown",
   "metadata": {},
   "source": [
    "## Prediction"
   ]
  },
  {
   "cell_type": "code",
   "execution_count": 10,
   "metadata": {},
   "outputs": [
    {
     "data": {
      "text/plain": [
       "array([758.1679])"
      ]
     },
     "execution_count": 10,
     "metadata": {},
     "output_type": "execute_result"
    }
   ],
   "source": [
    "#prediction using given data\n",
    "new_rso = 800\n",
    "predict_sbo = lr.predict([[new_rso]])\n",
    "predict_sbo"
   ]
  }
 ],
 "metadata": {
  "kernelspec": {
   "display_name": "Python 3",
   "language": "python",
   "name": "python3"
  },
  "language_info": {
   "codemirror_mode": {
    "name": "ipython",
    "version": 3
   },
   "file_extension": ".py",
   "mimetype": "text/x-python",
   "name": "python",
   "nbconvert_exporter": "python",
   "pygments_lexer": "ipython3",
   "version": "3.7.1"
  }
 },
 "nbformat": 4,
 "nbformat_minor": 2
}
