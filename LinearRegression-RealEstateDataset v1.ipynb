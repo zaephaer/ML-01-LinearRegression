{
 "cells": [
  {
   "cell_type": "markdown",
   "metadata": {},
   "source": [
    "# Linear Regression"
   ]
  },
  {
   "cell_type": "markdown",
   "metadata": {},
   "source": [
    "Objective: EDA Real Estate data and prediction using Linear Regression  \n",
    "Dataset: realestate.csv   \n",
    "Ref: NA"
   ]
  },
  {
   "cell_type": "code",
   "execution_count": 1,
   "metadata": {},
   "outputs": [
    {
     "name": "stdout",
     "output_type": "stream",
     "text": [
      "Dataset size (414, 8)\n"
     ]
    },
    {
     "data": {
      "text/html": [
       "<div>\n",
       "<style scoped>\n",
       "    .dataframe tbody tr th:only-of-type {\n",
       "        vertical-align: middle;\n",
       "    }\n",
       "\n",
       "    .dataframe tbody tr th {\n",
       "        vertical-align: top;\n",
       "    }\n",
       "\n",
       "    .dataframe thead th {\n",
       "        text-align: right;\n",
       "    }\n",
       "</style>\n",
       "<table border=\"1\" class=\"dataframe\">\n",
       "  <thead>\n",
       "    <tr style=\"text-align: right;\">\n",
       "      <th></th>\n",
       "      <th>No</th>\n",
       "      <th>X1 transaction date</th>\n",
       "      <th>X2 house age</th>\n",
       "      <th>X3 distance to the nearest MRT station</th>\n",
       "      <th>X4 number of convenience stores</th>\n",
       "      <th>X5 latitude</th>\n",
       "      <th>X6 longitude</th>\n",
       "      <th>Y house price of unit area</th>\n",
       "    </tr>\n",
       "  </thead>\n",
       "  <tbody>\n",
       "    <tr>\n",
       "      <th>0</th>\n",
       "      <td>1</td>\n",
       "      <td>2,012.92</td>\n",
       "      <td>32.00</td>\n",
       "      <td>84.88</td>\n",
       "      <td>10</td>\n",
       "      <td>24.98</td>\n",
       "      <td>121.54</td>\n",
       "      <td>37.90</td>\n",
       "    </tr>\n",
       "    <tr>\n",
       "      <th>1</th>\n",
       "      <td>2</td>\n",
       "      <td>2,012.92</td>\n",
       "      <td>19.50</td>\n",
       "      <td>306.59</td>\n",
       "      <td>9</td>\n",
       "      <td>24.98</td>\n",
       "      <td>121.54</td>\n",
       "      <td>42.20</td>\n",
       "    </tr>\n",
       "    <tr>\n",
       "      <th>2</th>\n",
       "      <td>3</td>\n",
       "      <td>2,013.58</td>\n",
       "      <td>13.30</td>\n",
       "      <td>561.98</td>\n",
       "      <td>5</td>\n",
       "      <td>24.99</td>\n",
       "      <td>121.54</td>\n",
       "      <td>47.30</td>\n",
       "    </tr>\n",
       "    <tr>\n",
       "      <th>3</th>\n",
       "      <td>4</td>\n",
       "      <td>2,013.50</td>\n",
       "      <td>13.30</td>\n",
       "      <td>561.98</td>\n",
       "      <td>5</td>\n",
       "      <td>24.99</td>\n",
       "      <td>121.54</td>\n",
       "      <td>54.80</td>\n",
       "    </tr>\n",
       "    <tr>\n",
       "      <th>4</th>\n",
       "      <td>5</td>\n",
       "      <td>2,012.83</td>\n",
       "      <td>5.00</td>\n",
       "      <td>390.57</td>\n",
       "      <td>5</td>\n",
       "      <td>24.98</td>\n",
       "      <td>121.54</td>\n",
       "      <td>43.10</td>\n",
       "    </tr>\n",
       "  </tbody>\n",
       "</table>\n",
       "</div>"
      ],
      "text/plain": [
       "   No  X1 transaction date  X2 house age  \\\n",
       "0   1             2,012.92         32.00   \n",
       "1   2             2,012.92         19.50   \n",
       "2   3             2,013.58         13.30   \n",
       "3   4             2,013.50         13.30   \n",
       "4   5             2,012.83          5.00   \n",
       "\n",
       "   X3 distance to the nearest MRT station  X4 number of convenience stores  \\\n",
       "0                                   84.88                               10   \n",
       "1                                  306.59                                9   \n",
       "2                                  561.98                                5   \n",
       "3                                  561.98                                5   \n",
       "4                                  390.57                                5   \n",
       "\n",
       "   X5 latitude  X6 longitude  Y house price of unit area  \n",
       "0        24.98        121.54                       37.90  \n",
       "1        24.98        121.54                       42.20  \n",
       "2        24.99        121.54                       47.30  \n",
       "3        24.99        121.54                       54.80  \n",
       "4        24.98        121.54                       43.10  "
      ]
     },
     "execution_count": 1,
     "metadata": {},
     "output_type": "execute_result"
    }
   ],
   "source": [
    "import pandas as pd\n",
    "import numpy as np\n",
    "import matplotlib.pyplot as plt\n",
    "\n",
    "pd.options.display.float_format = '{:,.2f}'.format\n",
    "\n",
    "data = pd.read_csv('realestate.csv')\n",
    "print('Dataset size', data.shape)\n",
    "data.head()"
   ]
  },
  {
   "cell_type": "code",
   "execution_count": 2,
   "metadata": {},
   "outputs": [
    {
     "data": {
      "text/html": [
       "<div>\n",
       "<style scoped>\n",
       "    .dataframe tbody tr th:only-of-type {\n",
       "        vertical-align: middle;\n",
       "    }\n",
       "\n",
       "    .dataframe tbody tr th {\n",
       "        vertical-align: top;\n",
       "    }\n",
       "\n",
       "    .dataframe thead th {\n",
       "        text-align: right;\n",
       "    }\n",
       "</style>\n",
       "<table border=\"1\" class=\"dataframe\">\n",
       "  <thead>\n",
       "    <tr style=\"text-align: right;\">\n",
       "      <th></th>\n",
       "      <th>No</th>\n",
       "      <th>TrxDate</th>\n",
       "      <th>HouseAge</th>\n",
       "      <th>MRT_Distance</th>\n",
       "      <th>NoStores</th>\n",
       "      <th>Long</th>\n",
       "      <th>Lat</th>\n",
       "      <th>Price</th>\n",
       "    </tr>\n",
       "  </thead>\n",
       "  <tbody>\n",
       "    <tr>\n",
       "      <th>0</th>\n",
       "      <td>1</td>\n",
       "      <td>2,012.92</td>\n",
       "      <td>32.00</td>\n",
       "      <td>84.88</td>\n",
       "      <td>10</td>\n",
       "      <td>24.98</td>\n",
       "      <td>121.54</td>\n",
       "      <td>37.90</td>\n",
       "    </tr>\n",
       "    <tr>\n",
       "      <th>1</th>\n",
       "      <td>2</td>\n",
       "      <td>2,012.92</td>\n",
       "      <td>19.50</td>\n",
       "      <td>306.59</td>\n",
       "      <td>9</td>\n",
       "      <td>24.98</td>\n",
       "      <td>121.54</td>\n",
       "      <td>42.20</td>\n",
       "    </tr>\n",
       "    <tr>\n",
       "      <th>2</th>\n",
       "      <td>3</td>\n",
       "      <td>2,013.58</td>\n",
       "      <td>13.30</td>\n",
       "      <td>561.98</td>\n",
       "      <td>5</td>\n",
       "      <td>24.99</td>\n",
       "      <td>121.54</td>\n",
       "      <td>47.30</td>\n",
       "    </tr>\n",
       "    <tr>\n",
       "      <th>3</th>\n",
       "      <td>4</td>\n",
       "      <td>2,013.50</td>\n",
       "      <td>13.30</td>\n",
       "      <td>561.98</td>\n",
       "      <td>5</td>\n",
       "      <td>24.99</td>\n",
       "      <td>121.54</td>\n",
       "      <td>54.80</td>\n",
       "    </tr>\n",
       "    <tr>\n",
       "      <th>4</th>\n",
       "      <td>5</td>\n",
       "      <td>2,012.83</td>\n",
       "      <td>5.00</td>\n",
       "      <td>390.57</td>\n",
       "      <td>5</td>\n",
       "      <td>24.98</td>\n",
       "      <td>121.54</td>\n",
       "      <td>43.10</td>\n",
       "    </tr>\n",
       "  </tbody>\n",
       "</table>\n",
       "</div>"
      ],
      "text/plain": [
       "   No  TrxDate  HouseAge  MRT_Distance  NoStores  Long    Lat  Price\n",
       "0   1 2,012.92     32.00         84.88        10 24.98 121.54  37.90\n",
       "1   2 2,012.92     19.50        306.59         9 24.98 121.54  42.20\n",
       "2   3 2,013.58     13.30        561.98         5 24.99 121.54  47.30\n",
       "3   4 2,013.50     13.30        561.98         5 24.99 121.54  54.80\n",
       "4   5 2,012.83      5.00        390.57         5 24.98 121.54  43.10"
      ]
     },
     "execution_count": 2,
     "metadata": {},
     "output_type": "execute_result"
    }
   ],
   "source": [
    "#rename column\n",
    "data.columns = ['No','TrxDate','HouseAge','MRT_Distance','NoStores','Long','Lat','Price']\n",
    "data.head()"
   ]
  },
  {
   "cell_type": "code",
   "execution_count": 3,
   "metadata": {},
   "outputs": [
    {
     "data": {
      "text/html": [
       "<div>\n",
       "<style scoped>\n",
       "    .dataframe tbody tr th:only-of-type {\n",
       "        vertical-align: middle;\n",
       "    }\n",
       "\n",
       "    .dataframe tbody tr th {\n",
       "        vertical-align: top;\n",
       "    }\n",
       "\n",
       "    .dataframe thead th {\n",
       "        text-align: right;\n",
       "    }\n",
       "</style>\n",
       "<table border=\"1\" class=\"dataframe\">\n",
       "  <thead>\n",
       "    <tr style=\"text-align: right;\">\n",
       "      <th></th>\n",
       "      <th>HouseAge</th>\n",
       "      <th>MRT_Distance</th>\n",
       "      <th>NoStores</th>\n",
       "      <th>Price</th>\n",
       "    </tr>\n",
       "  </thead>\n",
       "  <tbody>\n",
       "    <tr>\n",
       "      <th>0</th>\n",
       "      <td>32.00</td>\n",
       "      <td>84.88</td>\n",
       "      <td>10</td>\n",
       "      <td>37.90</td>\n",
       "    </tr>\n",
       "    <tr>\n",
       "      <th>1</th>\n",
       "      <td>19.50</td>\n",
       "      <td>306.59</td>\n",
       "      <td>9</td>\n",
       "      <td>42.20</td>\n",
       "    </tr>\n",
       "    <tr>\n",
       "      <th>2</th>\n",
       "      <td>13.30</td>\n",
       "      <td>561.98</td>\n",
       "      <td>5</td>\n",
       "      <td>47.30</td>\n",
       "    </tr>\n",
       "    <tr>\n",
       "      <th>3</th>\n",
       "      <td>13.30</td>\n",
       "      <td>561.98</td>\n",
       "      <td>5</td>\n",
       "      <td>54.80</td>\n",
       "    </tr>\n",
       "    <tr>\n",
       "      <th>4</th>\n",
       "      <td>5.00</td>\n",
       "      <td>390.57</td>\n",
       "      <td>5</td>\n",
       "      <td>43.10</td>\n",
       "    </tr>\n",
       "  </tbody>\n",
       "</table>\n",
       "</div>"
      ],
      "text/plain": [
       "   HouseAge  MRT_Distance  NoStores  Price\n",
       "0     32.00         84.88        10  37.90\n",
       "1     19.50        306.59         9  42.20\n",
       "2     13.30        561.98         5  47.30\n",
       "3     13.30        561.98         5  54.80\n",
       "4      5.00        390.57         5  43.10"
      ]
     },
     "execution_count": 3,
     "metadata": {},
     "output_type": "execute_result"
    }
   ],
   "source": [
    "#drop column\n",
    "data.drop(['No','TrxDate','Long','Lat'],axis=1,inplace=True)\n",
    "data.head()"
   ]
  },
  {
   "cell_type": "code",
   "execution_count": 4,
   "metadata": {},
   "outputs": [
    {
     "name": "stdout",
     "output_type": "stream",
     "text": [
      "<class 'pandas.core.frame.DataFrame'>\n",
      "RangeIndex: 414 entries, 0 to 413\n",
      "Data columns (total 4 columns):\n",
      "HouseAge        414 non-null float64\n",
      "MRT_Distance    414 non-null float64\n",
      "NoStores        414 non-null int64\n",
      "Price           414 non-null float64\n",
      "dtypes: float64(3), int64(1)\n",
      "memory usage: 13.0 KB\n"
     ]
    }
   ],
   "source": [
    "data.info()"
   ]
  },
  {
   "cell_type": "markdown",
   "metadata": {},
   "source": [
    "## Correlation"
   ]
  },
  {
   "cell_type": "code",
   "execution_count": 5,
   "metadata": {
    "scrolled": true
   },
   "outputs": [
    {
     "data": {
      "image/png": "[encoded data removed]",
      "text/plain": [
       "<Figure size 576x432 with 2 Axes>"
      ]
     },
     "metadata": {
      "needs_background": "light"
     },
     "output_type": "display_data"
    }
   ],
   "source": [
    "import seaborn as sns\n",
    "plt.figure(figsize=(8,6))\n",
    "sns.heatmap(data=data.corr(),annot=True,fmt='.2f',cmap='coolwarm')\n",
    "plt.show()"
   ]
  },
  {
   "cell_type": "code",
   "execution_count": 6,
   "metadata": {},
   "outputs": [
    {
     "data": {
      "text/plain": [
       "Price           1.00\n",
       "NoStores        0.57\n",
       "HouseAge       -0.21\n",
       "MRT_Distance   -0.67\n",
       "Name: Price, dtype: float64"
      ]
     },
     "execution_count": 6,
     "metadata": {},
     "output_type": "execute_result"
    }
   ],
   "source": [
    "corr_rank = data.corr()\n",
    "corr_rank[\"Price\"].sort_values(ascending=False)"
   ]
  },
  {
   "cell_type": "markdown",
   "metadata": {},
   "source": [
    "## Modelling 1: NoStores"
   ]
  },
  {
   "cell_type": "code",
   "execution_count": 7,
   "metadata": {},
   "outputs": [
    {
     "name": "stdout",
     "output_type": "stream",
     "text": [
      "Coefficients:  [[2.63765346]]\n",
      "Intercept   :  [27.18110478]\n"
     ]
    }
   ],
   "source": [
    "#positive correlation\n",
    "from sklearn import datasets, linear_model\n",
    "\n",
    "#reshape single column to 1 column array\n",
    "NoStorex = np.array(data.NoStores).reshape((-1,1))\n",
    "Pricex = np.array(data.Price).reshape((-1,1))\n",
    "\n",
    "regr = linear_model.LinearRegression()\n",
    "regr.fit(NoStorex, Pricex)\n",
    "print(\"Coefficients: \", regr.coef_)\n",
    "print(\"Intercept   : \", regr.intercept_)"
   ]
  },
  {
   "cell_type": "code",
   "execution_count": 8,
   "metadata": {},
   "outputs": [
    {
     "data": {
      "text/plain": [
       "array([[50.91998595]])"
      ]
     },
     "execution_count": 8,
     "metadata": {},
     "output_type": "execute_result"
    }
   ],
   "source": [
    "#Prediction Method using Formula\n",
    "noofstore_new = 9\n",
    "pred = (noofstore_new * regr.coef_) + regr.intercept_\n",
    "pred"
   ]
  },
  {
   "cell_type": "code",
   "execution_count": 9,
   "metadata": {},
   "outputs": [
    {
     "data": {
      "text/plain": [
       "array([[50.91998595]])"
      ]
     },
     "execution_count": 9,
     "metadata": {},
     "output_type": "execute_result"
    }
   ],
   "source": [
    "#Prediction Method using predict\n",
    "regr.predict([[noofstore_new]])"
   ]
  },
  {
   "cell_type": "markdown",
   "metadata": {},
   "source": [
    "## Modelling 2: MRT Distance"
   ]
  },
  {
   "cell_type": "code",
   "execution_count": 10,
   "metadata": {},
   "outputs": [
    {
     "name": "stdout",
     "output_type": "stream",
     "text": [
      "Coefficients:  [[-0.00726205]]\n",
      "Intercept   :  [45.85142706]\n"
     ]
    }
   ],
   "source": [
    "mrtdis = np.array(data.MRT_Distance).reshape((-1,1))\n",
    "\n",
    "regr = linear_model.LinearRegression()\n",
    "regr.fit(mrtdis, Pricex)\n",
    "print(\"Coefficients: \", regr.coef_)\n",
    "print(\"Intercept   : \", regr.intercept_)"
   ]
  },
  {
   "cell_type": "code",
   "execution_count": 11,
   "metadata": {},
   "outputs": [
    {
     "data": {
      "text/plain": [
       "array([[43.62923926]])"
      ]
     },
     "execution_count": 11,
     "metadata": {},
     "output_type": "execute_result"
    }
   ],
   "source": [
    "mrtdis_new = 306\n",
    "pred = (mrtdis_new * regr.coef_) + regr.intercept_\n",
    "pred"
   ]
  },
  {
   "cell_type": "code",
   "execution_count": 12,
   "metadata": {},
   "outputs": [
    {
     "data": {
      "text/plain": [
       "array([[43.62923926]])"
      ]
     },
     "execution_count": 12,
     "metadata": {},
     "output_type": "execute_result"
    }
   ],
   "source": [
    "regr.predict([[mrtdis_new]])"
   ]
  }
 ],
 "metadata": {
  "kernelspec": {
   "display_name": "Python 3",
   "language": "python",
   "name": "python3"
  },
  "language_info": {
   "codemirror_mode": {
    "name": "ipython",
    "version": 3
   },
   "file_extension": ".py",
   "mimetype": "text/x-python",
   "name": "python",
   "nbconvert_exporter": "python",
   "pygments_lexer": "ipython3",
   "version": "3.7.1"
  }
 },
 "nbformat": 4,
 "nbformat_minor": 2
}
