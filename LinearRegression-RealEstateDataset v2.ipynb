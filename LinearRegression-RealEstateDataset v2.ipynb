{
 "cells": [
  {
   "cell_type": "markdown",
   "metadata": {},
   "source": [
    "# Linear Regression"
   ]
  },
  {
   "cell_type": "markdown",
   "metadata": {},
   "source": [
    "Objective: EDA Real Estate data and prediction using Linear Regression  \n",
    "Dataset: realestate.csv   \n",
    "Ref: NA"
   ]
  },
  {
   "cell_type": "code",
   "execution_count": 1,
   "metadata": {},
   "outputs": [
    {
     "name": "stdout",
     "output_type": "stream",
     "text": [
      "Dataset size (414, 8)\n"
     ]
    },
    {
     "data": {
      "text/html": [
       "<div>\n",
       "<style scoped>\n",
       "    .dataframe tbody tr th:only-of-type {\n",
       "        vertical-align: middle;\n",
       "    }\n",
       "\n",
       "    .dataframe tbody tr th {\n",
       "        vertical-align: top;\n",
       "    }\n",
       "\n",
       "    .dataframe thead th {\n",
       "        text-align: right;\n",
       "    }\n",
       "</style>\n",
       "<table border=\"1\" class=\"dataframe\">\n",
       "  <thead>\n",
       "    <tr style=\"text-align: right;\">\n",
       "      <th></th>\n",
       "      <th>No</th>\n",
       "      <th>X1 transaction date</th>\n",
       "      <th>X2 house age</th>\n",
       "      <th>X3 distance to the nearest MRT station</th>\n",
       "      <th>X4 number of convenience stores</th>\n",
       "      <th>X5 latitude</th>\n",
       "      <th>X6 longitude</th>\n",
       "      <th>Y house price of unit area</th>\n",
       "    </tr>\n",
       "  </thead>\n",
       "  <tbody>\n",
       "    <tr>\n",
       "      <th>0</th>\n",
       "      <td>1</td>\n",
       "      <td>2,012.92</td>\n",
       "      <td>32.00</td>\n",
       "      <td>84.88</td>\n",
       "      <td>10</td>\n",
       "      <td>24.98</td>\n",
       "      <td>121.54</td>\n",
       "      <td>37.90</td>\n",
       "    </tr>\n",
       "    <tr>\n",
       "      <th>1</th>\n",
       "      <td>2</td>\n",
       "      <td>2,012.92</td>\n",
       "      <td>19.50</td>\n",
       "      <td>306.59</td>\n",
       "      <td>9</td>\n",
       "      <td>24.98</td>\n",
       "      <td>121.54</td>\n",
       "      <td>42.20</td>\n",
       "    </tr>\n",
       "    <tr>\n",
       "      <th>2</th>\n",
       "      <td>3</td>\n",
       "      <td>2,013.58</td>\n",
       "      <td>13.30</td>\n",
       "      <td>561.98</td>\n",
       "      <td>5</td>\n",
       "      <td>24.99</td>\n",
       "      <td>121.54</td>\n",
       "      <td>47.30</td>\n",
       "    </tr>\n",
       "    <tr>\n",
       "      <th>3</th>\n",
       "      <td>4</td>\n",
       "      <td>2,013.50</td>\n",
       "      <td>13.30</td>\n",
       "      <td>561.98</td>\n",
       "      <td>5</td>\n",
       "      <td>24.99</td>\n",
       "      <td>121.54</td>\n",
       "      <td>54.80</td>\n",
       "    </tr>\n",
       "    <tr>\n",
       "      <th>4</th>\n",
       "      <td>5</td>\n",
       "      <td>2,012.83</td>\n",
       "      <td>5.00</td>\n",
       "      <td>390.57</td>\n",
       "      <td>5</td>\n",
       "      <td>24.98</td>\n",
       "      <td>121.54</td>\n",
       "      <td>43.10</td>\n",
       "    </tr>\n",
       "  </tbody>\n",
       "</table>\n",
       "</div>"
      ],
      "text/plain": [
       "   No  X1 transaction date  X2 house age  \\\n",
       "0   1             2,012.92         32.00   \n",
       "1   2             2,012.92         19.50   \n",
       "2   3             2,013.58         13.30   \n",
       "3   4             2,013.50         13.30   \n",
       "4   5             2,012.83          5.00   \n",
       "\n",
       "   X3 distance to the nearest MRT station  X4 number of convenience stores  \\\n",
       "0                                   84.88                               10   \n",
       "1                                  306.59                                9   \n",
       "2                                  561.98                                5   \n",
       "3                                  561.98                                5   \n",
       "4                                  390.57                                5   \n",
       "\n",
       "   X5 latitude  X6 longitude  Y house price of unit area  \n",
       "0        24.98        121.54                       37.90  \n",
       "1        24.98        121.54                       42.20  \n",
       "2        24.99        121.54                       47.30  \n",
       "3        24.99        121.54                       54.80  \n",
       "4        24.98        121.54                       43.10  "
      ]
     },
     "execution_count": 1,
     "metadata": {},
     "output_type": "execute_result"
    }
   ],
   "source": [
    "import pandas as pd\n",
    "import numpy as np\n",
    "import matplotlib.pyplot as plt\n",
    "\n",
    "pd.options.display.float_format = '{:,.2f}'.format\n",
    "\n",
    "data = pd.read_csv('realestate.csv')\n",
    "print('Dataset size', data.shape)\n",
    "data.head()"
   ]
  },
  {
   "cell_type": "code",
   "execution_count": 2,
   "metadata": {},
   "outputs": [
    {
     "data": {
      "text/html": [
       "<div>\n",
       "<style scoped>\n",
       "    .dataframe tbody tr th:only-of-type {\n",
       "        vertical-align: middle;\n",
       "    }\n",
       "\n",
       "    .dataframe tbody tr th {\n",
       "        vertical-align: top;\n",
       "    }\n",
       "\n",
       "    .dataframe thead th {\n",
       "        text-align: right;\n",
       "    }\n",
       "</style>\n",
       "<table border=\"1\" class=\"dataframe\">\n",
       "  <thead>\n",
       "    <tr style=\"text-align: right;\">\n",
       "      <th></th>\n",
       "      <th>No</th>\n",
       "      <th>TrxDate</th>\n",
       "      <th>HouseAge</th>\n",
       "      <th>MRT_Distance</th>\n",
       "      <th>NoStores</th>\n",
       "      <th>Long</th>\n",
       "      <th>Lat</th>\n",
       "      <th>Price</th>\n",
       "    </tr>\n",
       "  </thead>\n",
       "  <tbody>\n",
       "    <tr>\n",
       "      <th>0</th>\n",
       "      <td>1</td>\n",
       "      <td>2,012.92</td>\n",
       "      <td>32.00</td>\n",
       "      <td>84.88</td>\n",
       "      <td>10</td>\n",
       "      <td>24.98</td>\n",
       "      <td>121.54</td>\n",
       "      <td>37.90</td>\n",
       "    </tr>\n",
       "    <tr>\n",
       "      <th>1</th>\n",
       "      <td>2</td>\n",
       "      <td>2,012.92</td>\n",
       "      <td>19.50</td>\n",
       "      <td>306.59</td>\n",
       "      <td>9</td>\n",
       "      <td>24.98</td>\n",
       "      <td>121.54</td>\n",
       "      <td>42.20</td>\n",
       "    </tr>\n",
       "    <tr>\n",
       "      <th>2</th>\n",
       "      <td>3</td>\n",
       "      <td>2,013.58</td>\n",
       "      <td>13.30</td>\n",
       "      <td>561.98</td>\n",
       "      <td>5</td>\n",
       "      <td>24.99</td>\n",
       "      <td>121.54</td>\n",
       "      <td>47.30</td>\n",
       "    </tr>\n",
       "    <tr>\n",
       "      <th>3</th>\n",
       "      <td>4</td>\n",
       "      <td>2,013.50</td>\n",
       "      <td>13.30</td>\n",
       "      <td>561.98</td>\n",
       "      <td>5</td>\n",
       "      <td>24.99</td>\n",
       "      <td>121.54</td>\n",
       "      <td>54.80</td>\n",
       "    </tr>\n",
       "    <tr>\n",
       "      <th>4</th>\n",
       "      <td>5</td>\n",
       "      <td>2,012.83</td>\n",
       "      <td>5.00</td>\n",
       "      <td>390.57</td>\n",
       "      <td>5</td>\n",
       "      <td>24.98</td>\n",
       "      <td>121.54</td>\n",
       "      <td>43.10</td>\n",
       "    </tr>\n",
       "  </tbody>\n",
       "</table>\n",
       "</div>"
      ],
      "text/plain": [
       "   No  TrxDate  HouseAge  MRT_Distance  NoStores  Long    Lat  Price\n",
       "0   1 2,012.92     32.00         84.88        10 24.98 121.54  37.90\n",
       "1   2 2,012.92     19.50        306.59         9 24.98 121.54  42.20\n",
       "2   3 2,013.58     13.30        561.98         5 24.99 121.54  47.30\n",
       "3   4 2,013.50     13.30        561.98         5 24.99 121.54  54.80\n",
       "4   5 2,012.83      5.00        390.57         5 24.98 121.54  43.10"
      ]
     },
     "execution_count": 2,
     "metadata": {},
     "output_type": "execute_result"
    }
   ],
   "source": [
    "#rename column\n",
    "data.columns = ['No','TrxDate','HouseAge','MRT_Distance','NoStores','Long','Lat','Price']\n",
    "data.head()"
   ]
  },
  {
   "cell_type": "code",
   "execution_count": 3,
   "metadata": {},
   "outputs": [
    {
     "data": {
      "text/html": [
       "<div>\n",
       "<style scoped>\n",
       "    .dataframe tbody tr th:only-of-type {\n",
       "        vertical-align: middle;\n",
       "    }\n",
       "\n",
       "    .dataframe tbody tr th {\n",
       "        vertical-align: top;\n",
       "    }\n",
       "\n",
       "    .dataframe thead th {\n",
       "        text-align: right;\n",
       "    }\n",
       "</style>\n",
       "<table border=\"1\" class=\"dataframe\">\n",
       "  <thead>\n",
       "    <tr style=\"text-align: right;\">\n",
       "      <th></th>\n",
       "      <th>HouseAge</th>\n",
       "      <th>MRT_Distance</th>\n",
       "      <th>NoStores</th>\n",
       "      <th>Price</th>\n",
       "    </tr>\n",
       "  </thead>\n",
       "  <tbody>\n",
       "    <tr>\n",
       "      <th>0</th>\n",
       "      <td>32.00</td>\n",
       "      <td>84.88</td>\n",
       "      <td>10</td>\n",
       "      <td>37.90</td>\n",
       "    </tr>\n",
       "    <tr>\n",
       "      <th>1</th>\n",
       "      <td>19.50</td>\n",
       "      <td>306.59</td>\n",
       "      <td>9</td>\n",
       "      <td>42.20</td>\n",
       "    </tr>\n",
       "    <tr>\n",
       "      <th>2</th>\n",
       "      <td>13.30</td>\n",
       "      <td>561.98</td>\n",
       "      <td>5</td>\n",
       "      <td>47.30</td>\n",
       "    </tr>\n",
       "    <tr>\n",
       "      <th>3</th>\n",
       "      <td>13.30</td>\n",
       "      <td>561.98</td>\n",
       "      <td>5</td>\n",
       "      <td>54.80</td>\n",
       "    </tr>\n",
       "    <tr>\n",
       "      <th>4</th>\n",
       "      <td>5.00</td>\n",
       "      <td>390.57</td>\n",
       "      <td>5</td>\n",
       "      <td>43.10</td>\n",
       "    </tr>\n",
       "  </tbody>\n",
       "</table>\n",
       "</div>"
      ],
      "text/plain": [
       "   HouseAge  MRT_Distance  NoStores  Price\n",
       "0     32.00         84.88        10  37.90\n",
       "1     19.50        306.59         9  42.20\n",
       "2     13.30        561.98         5  47.30\n",
       "3     13.30        561.98         5  54.80\n",
       "4      5.00        390.57         5  43.10"
      ]
     },
     "execution_count": 3,
     "metadata": {},
     "output_type": "execute_result"
    }
   ],
   "source": [
    "#drop column\n",
    "data.drop(['No','TrxDate','Long','Lat'],axis=1,inplace=True)\n",
    "data.head()"
   ]
  },
  {
   "cell_type": "code",
   "execution_count": 4,
   "metadata": {},
   "outputs": [
    {
     "name": "stdout",
     "output_type": "stream",
     "text": [
      "<class 'pandas.core.frame.DataFrame'>\n",
      "RangeIndex: 414 entries, 0 to 413\n",
      "Data columns (total 4 columns):\n",
      "HouseAge        414 non-null float64\n",
      "MRT_Distance    414 non-null float64\n",
      "NoStores        414 non-null int64\n",
      "Price           414 non-null float64\n",
      "dtypes: float64(3), int64(1)\n",
      "memory usage: 13.0 KB\n"
     ]
    }
   ],
   "source": [
    "data.info()"
   ]
  },
  {
   "cell_type": "markdown",
   "metadata": {},
   "source": [
    "## Correlation"
   ]
  },
  {
   "cell_type": "code",
   "execution_count": 5,
   "metadata": {
    "scrolled": true
   },
   "outputs": [
    {
     "data": {
      "image/png": "[encoded data removed]",
      "text/plain": [
       "<Figure size 576x432 with 2 Axes>"
      ]
     },
     "metadata": {
      "needs_background": "light"
     },
     "output_type": "display_data"
    }
   ],
   "source": [
    "import seaborn as sns\n",
    "plt.figure(figsize=(8,6))\n",
    "sns.heatmap(data=data.corr(),annot=True,fmt='.2f',cmap='coolwarm')\n",
    "plt.show()"
   ]
  },
  {
   "cell_type": "code",
   "execution_count": 6,
   "metadata": {},
   "outputs": [
    {
     "data": {
      "text/plain": [
       "Price           1.00\n",
       "NoStores        0.57\n",
       "HouseAge       -0.21\n",
       "MRT_Distance   -0.67\n",
       "Name: Price, dtype: float64"
      ]
     },
     "execution_count": 6,
     "metadata": {},
     "output_type": "execute_result"
    }
   ],
   "source": [
    "corr_rank = data.corr()\n",
    "corr_rank[\"Price\"].sort_values(ascending=False)"
   ]
  },
  {
   "cell_type": "markdown",
   "metadata": {},
   "source": [
    "## Split Train Test"
   ]
  },
  {
   "cell_type": "code",
   "execution_count": 7,
   "metadata": {},
   "outputs": [
    {
     "name": "stdout",
     "output_type": "stream",
     "text": [
      "(326, 4)\n"
     ]
    },
    {
     "data": {
      "text/html": [
       "<div>\n",
       "<style scoped>\n",
       "    .dataframe tbody tr th:only-of-type {\n",
       "        vertical-align: middle;\n",
       "    }\n",
       "\n",
       "    .dataframe tbody tr th {\n",
       "        vertical-align: top;\n",
       "    }\n",
       "\n",
       "    .dataframe thead th {\n",
       "        text-align: right;\n",
       "    }\n",
       "</style>\n",
       "<table border=\"1\" class=\"dataframe\">\n",
       "  <thead>\n",
       "    <tr style=\"text-align: right;\">\n",
       "      <th></th>\n",
       "      <th>HouseAge</th>\n",
       "      <th>MRT_Distance</th>\n",
       "      <th>NoStores</th>\n",
       "      <th>Price</th>\n",
       "    </tr>\n",
       "  </thead>\n",
       "  <tbody>\n",
       "    <tr>\n",
       "      <th>0</th>\n",
       "      <td>32.00</td>\n",
       "      <td>84.88</td>\n",
       "      <td>10</td>\n",
       "      <td>37.90</td>\n",
       "    </tr>\n",
       "    <tr>\n",
       "      <th>2</th>\n",
       "      <td>13.30</td>\n",
       "      <td>561.98</td>\n",
       "      <td>5</td>\n",
       "      <td>47.30</td>\n",
       "    </tr>\n",
       "    <tr>\n",
       "      <th>3</th>\n",
       "      <td>13.30</td>\n",
       "      <td>561.98</td>\n",
       "      <td>5</td>\n",
       "      <td>54.80</td>\n",
       "    </tr>\n",
       "    <tr>\n",
       "      <th>4</th>\n",
       "      <td>5.00</td>\n",
       "      <td>390.57</td>\n",
       "      <td>5</td>\n",
       "      <td>43.10</td>\n",
       "    </tr>\n",
       "    <tr>\n",
       "      <th>5</th>\n",
       "      <td>7.10</td>\n",
       "      <td>2,175.03</td>\n",
       "      <td>3</td>\n",
       "      <td>32.10</td>\n",
       "    </tr>\n",
       "  </tbody>\n",
       "</table>\n",
       "</div>"
      ],
      "text/plain": [
       "   HouseAge  MRT_Distance  NoStores  Price\n",
       "0     32.00         84.88        10  37.90\n",
       "2     13.30        561.98         5  47.30\n",
       "3     13.30        561.98         5  54.80\n",
       "4      5.00        390.57         5  43.10\n",
       "5      7.10      2,175.03         3  32.10"
      ]
     },
     "execution_count": 7,
     "metadata": {},
     "output_type": "execute_result"
    }
   ],
   "source": [
    "stt = np.random.rand(len(data)) < 0.8\n",
    "train = data[stt]\n",
    "test = data[~stt]\n",
    "\n",
    "print(train.shape)\n",
    "train.head()"
   ]
  },
  {
   "cell_type": "code",
   "execution_count": 8,
   "metadata": {},
   "outputs": [
    {
     "name": "stdout",
     "output_type": "stream",
     "text": [
      "(88, 4)\n"
     ]
    },
    {
     "data": {
      "text/html": [
       "<div>\n",
       "<style scoped>\n",
       "    .dataframe tbody tr th:only-of-type {\n",
       "        vertical-align: middle;\n",
       "    }\n",
       "\n",
       "    .dataframe tbody tr th {\n",
       "        vertical-align: top;\n",
       "    }\n",
       "\n",
       "    .dataframe thead th {\n",
       "        text-align: right;\n",
       "    }\n",
       "</style>\n",
       "<table border=\"1\" class=\"dataframe\">\n",
       "  <thead>\n",
       "    <tr style=\"text-align: right;\">\n",
       "      <th></th>\n",
       "      <th>HouseAge</th>\n",
       "      <th>MRT_Distance</th>\n",
       "      <th>NoStores</th>\n",
       "      <th>Price</th>\n",
       "    </tr>\n",
       "  </thead>\n",
       "  <tbody>\n",
       "    <tr>\n",
       "      <th>1</th>\n",
       "      <td>19.50</td>\n",
       "      <td>306.59</td>\n",
       "      <td>9</td>\n",
       "      <td>42.20</td>\n",
       "    </tr>\n",
       "    <tr>\n",
       "      <th>6</th>\n",
       "      <td>34.50</td>\n",
       "      <td>623.47</td>\n",
       "      <td>7</td>\n",
       "      <td>40.30</td>\n",
       "    </tr>\n",
       "    <tr>\n",
       "      <th>9</th>\n",
       "      <td>17.90</td>\n",
       "      <td>1,783.18</td>\n",
       "      <td>3</td>\n",
       "      <td>22.10</td>\n",
       "    </tr>\n",
       "    <tr>\n",
       "      <th>12</th>\n",
       "      <td>13.00</td>\n",
       "      <td>492.23</td>\n",
       "      <td>5</td>\n",
       "      <td>39.30</td>\n",
       "    </tr>\n",
       "    <tr>\n",
       "      <th>22</th>\n",
       "      <td>14.70</td>\n",
       "      <td>1,360.14</td>\n",
       "      <td>1</td>\n",
       "      <td>24.60</td>\n",
       "    </tr>\n",
       "  </tbody>\n",
       "</table>\n",
       "</div>"
      ],
      "text/plain": [
       "    HouseAge  MRT_Distance  NoStores  Price\n",
       "1      19.50        306.59         9  42.20\n",
       "6      34.50        623.47         7  40.30\n",
       "9      17.90      1,783.18         3  22.10\n",
       "12     13.00        492.23         5  39.30\n",
       "22     14.70      1,360.14         1  24.60"
      ]
     },
     "execution_count": 8,
     "metadata": {},
     "output_type": "execute_result"
    }
   ],
   "source": [
    "print(test.shape)\n",
    "test.head()"
   ]
  },
  {
   "cell_type": "markdown",
   "metadata": {},
   "source": [
    "## Modelling 1: NoStores"
   ]
  },
  {
   "cell_type": "code",
   "execution_count": 9,
   "metadata": {},
   "outputs": [
    {
     "name": "stdout",
     "output_type": "stream",
     "text": [
      "Coefficient: [[2.62294555]]\n",
      "Intercept  : [27.02667835]\n"
     ]
    },
    {
     "data": {
      "image/png": "[encoded data removed]",
      "text/plain": [
       "<Figure size 432x288 with 1 Axes>"
      ]
     },
     "metadata": {
      "needs_background": "light"
     },
     "output_type": "display_data"
    }
   ],
   "source": [
    "#Using SKlearn Package to model data\n",
    "from sklearn import linear_model\n",
    "regr_en = linear_model.LinearRegression()\n",
    "train_x1 = np.asanyarray(train[['NoStores']])\n",
    "train_y1 = np.asanyarray(train[['Price']])\n",
    "regr_en.fit(train_x1,train_y1)\n",
    "\n",
    "print('Coefficient:', regr_en.coef_)\n",
    "print('Intercept  :', regr_en.intercept_)\n",
    "\n",
    "#Plot line into Scatter Plot \n",
    "plt.scatter(train.NoStores, train.Price, color='red')\n",
    "plt.plot(train_x1, regr_en.coef_[0][0] * train_x1 + regr_en.intercept_[0], '-b')\n",
    "plt.xlabel(\"No. of Convenience Store\")\n",
    "plt.ylabel(\"Price\")\n",
    "plt.show()"
   ]
  },
  {
   "cell_type": "code",
   "execution_count": 10,
   "metadata": {},
   "outputs": [
    {
     "name": "stdout",
     "output_type": "stream",
     "text": [
      "Mean absolure error          : 8.06\n",
      "Residual sum of squares (MSE): 111.19\n",
      "R2-Score                     : -1.25\n"
     ]
    }
   ],
   "source": [
    "#Check model accuracy\n",
    "from sklearn.metrics import r2_score\n",
    "\n",
    "test_x1 = np.asanyarray(test[['NoStores']])\n",
    "test_y1 = np.asanyarray(test[['Price']])\n",
    "test_y1_ = regr_en.predict(test_x1)\n",
    "\n",
    "en_mae = np.mean(np.absolute(test_y1_ - test_y1))\n",
    "en_mse = np.mean((test_y1_ - test_y1)**2)\n",
    "en_r2 = r2_score(test_y1_ , test_y1)\n",
    "\n",
    "print(\"Mean absolure error          : %.2f\" % en_mae)\n",
    "print(\"Residual sum of squares (MSE): %.2f\" % en_mse)\n",
    "print(\"R2-Score                     : %.2f\" % en_r2)"
   ]
  },
  {
   "cell_type": "code",
   "execution_count": 11,
   "metadata": {},
   "outputs": [
    {
     "name": "stdout",
     "output_type": "stream",
     "text": [
      "MRT Distance         : 10.00\n",
      "Predicted House Price: 53.26\n"
     ]
    }
   ],
   "source": [
    "#Using Model 1 for prediction\n",
    "new_nostores = 10\n",
    "\n",
    "pred_en = regr_en.predict([[new_nostores]])\n",
    "print(\"MRT Distance         : %.2f\" % (new_nostores))\n",
    "print(\"Predicted House Price: %.2f\" % (pred_en))"
   ]
  },
  {
   "cell_type": "markdown",
   "metadata": {},
   "source": [
    "## Modelling 2: MRT Distance"
   ]
  },
  {
   "cell_type": "code",
   "execution_count": 12,
   "metadata": {},
   "outputs": [
    {
     "name": "stdout",
     "output_type": "stream",
     "text": [
      "Coefficient: [[2.62294555]]\n",
      "Intercept  : [27.02667835]\n"
     ]
    },
    {
     "data": {
      "image/png": "[encoded data removed]",
      "text/plain": [
       "<Figure size 432x288 with 1 Axes>"
      ]
     },
     "metadata": {
      "needs_background": "light"
     },
     "output_type": "display_data"
    }
   ],
   "source": [
    "train_x2 = np.asanyarray(train[['MRT_Distance']])\n",
    "train_y2 = np.asanyarray(train[['Price']])\n",
    "regr_en.fit(train_x1,train_y1)\n",
    "\n",
    "print('Coefficient:', regr_en.coef_)\n",
    "print('Intercept  :', regr_en.intercept_)\n",
    "\n",
    "#Plot line into Scatter Plot \n",
    "plt.scatter(train.MRT_Distance, train.Price, color='red')\n",
    "plt.plot(train_x2, regr_en.coef_[0][0] * train_x2 + regr_en.intercept_[0], '-b')\n",
    "plt.xlabel(\"MRT Distance\")\n",
    "plt.ylabel(\"Price\")\n",
    "plt.show()"
   ]
  },
  {
   "cell_type": "code",
   "execution_count": 13,
   "metadata": {},
   "outputs": [
    {
     "name": "stdout",
     "output_type": "stream",
     "text": [
      "Mean absolure error          : 2270.34\n",
      "Residual sum of squares (MSE): 11715180.80\n",
      "R2-Score                     : -0.80\n"
     ]
    }
   ],
   "source": [
    "test_x2 = np.asanyarray(test[['MRT_Distance']])\n",
    "test_y2 = np.asanyarray(test[['Price']])\n",
    "test_y2_ = regr_en.predict(test_x2)\n",
    "\n",
    "en_mae2 = np.mean(np.absolute(test_y2_ - test_y2))\n",
    "en_mse2 = np.mean((test_y2_ - test_y2)**2)\n",
    "en_r3 = r2_score(test_y2_ , test_y2)\n",
    "\n",
    "print(\"Mean absolure error          : %.2f\" % en_mae2)\n",
    "print(\"Residual sum of squares (MSE): %.2f\" % en_mse2)\n",
    "print(\"R2-Score                     : %.2f\" % en_r3)"
   ]
  },
  {
   "cell_type": "code",
   "execution_count": 14,
   "metadata": {},
   "outputs": [
    {
     "name": "stdout",
     "output_type": "stream",
     "text": [
      "MRT Distance         : 10.00\n",
      "Predicted House Price: 53.26\n"
     ]
    }
   ],
   "source": [
    "new_mrtd = 10\n",
    "pred_en2 = regr_en.predict([[new_mrtd]])\n",
    "print(\"MRT Distance         : %.2f\" % (new_mrtd))\n",
    "print(\"Predicted House Price: %.2f\" % (pred_en2))"
   ]
  },
  {
   "cell_type": "code",
   "execution_count": null,
   "metadata": {},
   "outputs": [],
   "source": []
  }
 ],
 "metadata": {
  "kernelspec": {
   "display_name": "Python 3",
   "language": "python",
   "name": "python3"
  },
  "language_info": {
   "codemirror_mode": {
    "name": "ipython",
    "version": 3
   },
   "file_extension": ".py",
   "mimetype": "text/x-python",
   "name": "python",
   "nbconvert_exporter": "python",
   "pygments_lexer": "ipython3",
   "version": "3.7.1"
  }
 },
 "nbformat": 4,
 "nbformat_minor": 2
}
