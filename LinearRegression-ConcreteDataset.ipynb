{
 "cells": [
  {
   "cell_type": "markdown",
   "metadata": {},
   "source": [
    "# Linear Regression"
   ]
  },
  {
   "cell_type": "markdown",
   "metadata": {},
   "source": [
    "Objective: Predict concerete strength output  \n",
    "Dataset: concrete.csv  \n",
    "Ref: NA"
   ]
  },
  {
   "cell_type": "code",
   "execution_count": 1,
   "metadata": {},
   "outputs": [
    {
     "name": "stdout",
     "output_type": "stream",
     "text": [
      "Dataset size: (1030, 9)\n"
     ]
    },
    {
     "data": {
      "text/html": [
       "<div>\n",
       "<style scoped>\n",
       "    .dataframe tbody tr th:only-of-type {\n",
       "        vertical-align: middle;\n",
       "    }\n",
       "\n",
       "    .dataframe tbody tr th {\n",
       "        vertical-align: top;\n",
       "    }\n",
       "\n",
       "    .dataframe thead th {\n",
       "        text-align: right;\n",
       "    }\n",
       "</style>\n",
       "<table border=\"1\" class=\"dataframe\">\n",
       "  <thead>\n",
       "    <tr style=\"text-align: right;\">\n",
       "      <th></th>\n",
       "      <th>CementMix</th>\n",
       "      <th>BlastFurnaceSlag</th>\n",
       "      <th>FlyAsh</th>\n",
       "      <th>WaterMix</th>\n",
       "      <th>Superplasticizer</th>\n",
       "      <th>CoarseAggregate</th>\n",
       "      <th>FineAggregate</th>\n",
       "      <th>Age_day</th>\n",
       "      <th>ConcreteStrength</th>\n",
       "    </tr>\n",
       "  </thead>\n",
       "  <tbody>\n",
       "    <tr>\n",
       "      <th>0</th>\n",
       "      <td>540.00</td>\n",
       "      <td>0.00</td>\n",
       "      <td>0.00</td>\n",
       "      <td>162.00</td>\n",
       "      <td>2.50</td>\n",
       "      <td>1,040.00</td>\n",
       "      <td>676.00</td>\n",
       "      <td>28</td>\n",
       "      <td>79.99</td>\n",
       "    </tr>\n",
       "    <tr>\n",
       "      <th>1</th>\n",
       "      <td>540.00</td>\n",
       "      <td>0.00</td>\n",
       "      <td>0.00</td>\n",
       "      <td>162.00</td>\n",
       "      <td>2.50</td>\n",
       "      <td>1,055.00</td>\n",
       "      <td>676.00</td>\n",
       "      <td>28</td>\n",
       "      <td>61.89</td>\n",
       "    </tr>\n",
       "    <tr>\n",
       "      <th>2</th>\n",
       "      <td>332.50</td>\n",
       "      <td>142.50</td>\n",
       "      <td>0.00</td>\n",
       "      <td>228.00</td>\n",
       "      <td>0.00</td>\n",
       "      <td>932.00</td>\n",
       "      <td>594.00</td>\n",
       "      <td>270</td>\n",
       "      <td>40.27</td>\n",
       "    </tr>\n",
       "    <tr>\n",
       "      <th>3</th>\n",
       "      <td>332.50</td>\n",
       "      <td>142.50</td>\n",
       "      <td>0.00</td>\n",
       "      <td>228.00</td>\n",
       "      <td>0.00</td>\n",
       "      <td>932.00</td>\n",
       "      <td>594.00</td>\n",
       "      <td>365</td>\n",
       "      <td>41.05</td>\n",
       "    </tr>\n",
       "    <tr>\n",
       "      <th>4</th>\n",
       "      <td>198.60</td>\n",
       "      <td>132.40</td>\n",
       "      <td>0.00</td>\n",
       "      <td>192.00</td>\n",
       "      <td>0.00</td>\n",
       "      <td>978.40</td>\n",
       "      <td>825.50</td>\n",
       "      <td>360</td>\n",
       "      <td>44.30</td>\n",
       "    </tr>\n",
       "  </tbody>\n",
       "</table>\n",
       "</div>"
      ],
      "text/plain": [
       "   CementMix  BlastFurnaceSlag  FlyAsh  WaterMix  Superplasticizer  \\\n",
       "0     540.00              0.00    0.00    162.00              2.50   \n",
       "1     540.00              0.00    0.00    162.00              2.50   \n",
       "2     332.50            142.50    0.00    228.00              0.00   \n",
       "3     332.50            142.50    0.00    228.00              0.00   \n",
       "4     198.60            132.40    0.00    192.00              0.00   \n",
       "\n",
       "   CoarseAggregate  FineAggregate  Age_day  ConcreteStrength  \n",
       "0         1,040.00         676.00       28             79.99  \n",
       "1         1,055.00         676.00       28             61.89  \n",
       "2           932.00         594.00      270             40.27  \n",
       "3           932.00         594.00      365             41.05  \n",
       "4           978.40         825.50      360             44.30  "
      ]
     },
     "execution_count": 1,
     "metadata": {},
     "output_type": "execute_result"
    }
   ],
   "source": [
    "import matplotlib.pyplot as plot\n",
    "import pandas as pd\n",
    "import pylab as pl\n",
    "import numpy as np\n",
    "%matplotlib inline\n",
    "\n",
    "pd.options.display.float_format = '{:,.2f}'.format\n",
    "float_formatter = lambda x: \"%.4f\" % x\n",
    "np.set_printoptions(formatter={'float_kind':float_formatter})\n",
    "\n",
    "from sklearn.model_selection import train_test_split\n",
    "from sklearn.linear_model import LinearRegression\n",
    "\n",
    "data = pd.read_csv('concrete.csv')\n",
    "print('Dataset size:', data.shape)\n",
    "data.head()"
   ]
  },
  {
   "cell_type": "code",
   "execution_count": 2,
   "metadata": {},
   "outputs": [
    {
     "data": {
      "text/html": [
       "<div>\n",
       "<style scoped>\n",
       "    .dataframe tbody tr th:only-of-type {\n",
       "        vertical-align: middle;\n",
       "    }\n",
       "\n",
       "    .dataframe tbody tr th {\n",
       "        vertical-align: top;\n",
       "    }\n",
       "\n",
       "    .dataframe thead th {\n",
       "        text-align: right;\n",
       "    }\n",
       "</style>\n",
       "<table border=\"1\" class=\"dataframe\">\n",
       "  <thead>\n",
       "    <tr style=\"text-align: right;\">\n",
       "      <th></th>\n",
       "      <th>CementMix</th>\n",
       "      <th>BlastFurnaceSlag</th>\n",
       "      <th>FlyAsh</th>\n",
       "      <th>WaterMix</th>\n",
       "      <th>Superplasticizer</th>\n",
       "      <th>CoarseAggregate</th>\n",
       "      <th>FineAggregate</th>\n",
       "      <th>Age_day</th>\n",
       "      <th>ConcreteStrength</th>\n",
       "    </tr>\n",
       "  </thead>\n",
       "  <tbody>\n",
       "    <tr>\n",
       "      <th>count</th>\n",
       "      <td>1,030.00</td>\n",
       "      <td>1,030.00</td>\n",
       "      <td>1,030.00</td>\n",
       "      <td>1,030.00</td>\n",
       "      <td>1,030.00</td>\n",
       "      <td>1,030.00</td>\n",
       "      <td>1,030.00</td>\n",
       "      <td>1,030.00</td>\n",
       "      <td>1,030.00</td>\n",
       "    </tr>\n",
       "    <tr>\n",
       "      <th>mean</th>\n",
       "      <td>281.17</td>\n",
       "      <td>73.90</td>\n",
       "      <td>54.19</td>\n",
       "      <td>181.57</td>\n",
       "      <td>6.20</td>\n",
       "      <td>972.92</td>\n",
       "      <td>773.58</td>\n",
       "      <td>45.66</td>\n",
       "      <td>35.82</td>\n",
       "    </tr>\n",
       "    <tr>\n",
       "      <th>std</th>\n",
       "      <td>104.51</td>\n",
       "      <td>86.28</td>\n",
       "      <td>64.00</td>\n",
       "      <td>21.35</td>\n",
       "      <td>5.97</td>\n",
       "      <td>77.75</td>\n",
       "      <td>80.18</td>\n",
       "      <td>63.17</td>\n",
       "      <td>16.71</td>\n",
       "    </tr>\n",
       "    <tr>\n",
       "      <th>min</th>\n",
       "      <td>102.00</td>\n",
       "      <td>0.00</td>\n",
       "      <td>0.00</td>\n",
       "      <td>121.80</td>\n",
       "      <td>0.00</td>\n",
       "      <td>801.00</td>\n",
       "      <td>594.00</td>\n",
       "      <td>1.00</td>\n",
       "      <td>2.33</td>\n",
       "    </tr>\n",
       "    <tr>\n",
       "      <th>25%</th>\n",
       "      <td>192.38</td>\n",
       "      <td>0.00</td>\n",
       "      <td>0.00</td>\n",
       "      <td>164.90</td>\n",
       "      <td>0.00</td>\n",
       "      <td>932.00</td>\n",
       "      <td>730.95</td>\n",
       "      <td>7.00</td>\n",
       "      <td>23.71</td>\n",
       "    </tr>\n",
       "    <tr>\n",
       "      <th>50%</th>\n",
       "      <td>272.90</td>\n",
       "      <td>22.00</td>\n",
       "      <td>0.00</td>\n",
       "      <td>185.00</td>\n",
       "      <td>6.40</td>\n",
       "      <td>968.00</td>\n",
       "      <td>779.50</td>\n",
       "      <td>28.00</td>\n",
       "      <td>34.45</td>\n",
       "    </tr>\n",
       "    <tr>\n",
       "      <th>75%</th>\n",
       "      <td>350.00</td>\n",
       "      <td>142.95</td>\n",
       "      <td>118.30</td>\n",
       "      <td>192.00</td>\n",
       "      <td>10.20</td>\n",
       "      <td>1,029.40</td>\n",
       "      <td>824.00</td>\n",
       "      <td>56.00</td>\n",
       "      <td>46.14</td>\n",
       "    </tr>\n",
       "    <tr>\n",
       "      <th>max</th>\n",
       "      <td>540.00</td>\n",
       "      <td>359.40</td>\n",
       "      <td>200.10</td>\n",
       "      <td>247.00</td>\n",
       "      <td>32.20</td>\n",
       "      <td>1,145.00</td>\n",
       "      <td>992.60</td>\n",
       "      <td>365.00</td>\n",
       "      <td>82.60</td>\n",
       "    </tr>\n",
       "  </tbody>\n",
       "</table>\n",
       "</div>"
      ],
      "text/plain": [
       "       CementMix  BlastFurnaceSlag   FlyAsh  WaterMix  Superplasticizer  \\\n",
       "count   1,030.00          1,030.00 1,030.00  1,030.00          1,030.00   \n",
       "mean      281.17             73.90    54.19    181.57              6.20   \n",
       "std       104.51             86.28    64.00     21.35              5.97   \n",
       "min       102.00              0.00     0.00    121.80              0.00   \n",
       "25%       192.38              0.00     0.00    164.90              0.00   \n",
       "50%       272.90             22.00     0.00    185.00              6.40   \n",
       "75%       350.00            142.95   118.30    192.00             10.20   \n",
       "max       540.00            359.40   200.10    247.00             32.20   \n",
       "\n",
       "       CoarseAggregate  FineAggregate  Age_day  ConcreteStrength  \n",
       "count         1,030.00       1,030.00 1,030.00          1,030.00  \n",
       "mean            972.92         773.58    45.66             35.82  \n",
       "std              77.75          80.18    63.17             16.71  \n",
       "min             801.00         594.00     1.00              2.33  \n",
       "25%             932.00         730.95     7.00             23.71  \n",
       "50%             968.00         779.50    28.00             34.45  \n",
       "75%           1,029.40         824.00    56.00             46.14  \n",
       "max           1,145.00         992.60   365.00             82.60  "
      ]
     },
     "execution_count": 2,
     "metadata": {},
     "output_type": "execute_result"
    }
   ],
   "source": [
    "data.describe()"
   ]
  },
  {
   "cell_type": "markdown",
   "metadata": {},
   "source": [
    "## Correlation"
   ]
  },
  {
   "cell_type": "code",
   "execution_count": 3,
   "metadata": {},
   "outputs": [
    {
     "data": {
      "image/png": "[encoded data removed]",
      "text/plain": [
       "<Figure size 1152x864 with 2 Axes>"
      ]
     },
     "metadata": {
      "needs_background": "light"
     },
     "output_type": "display_data"
    }
   ],
   "source": [
    "import seaborn as sns\n",
    "plot.figure(figsize=(16,12))\n",
    "sns.heatmap(data=data.corr(),annot=True,fmt='.2f',cmap='coolwarm')\n",
    "plot.show()"
   ]
  },
  {
   "cell_type": "code",
   "execution_count": 4,
   "metadata": {},
   "outputs": [
    {
     "data": {
      "text/plain": [
       "ConcreteStrength    1.00\n",
       "CementMix           0.50\n",
       "Superplasticizer    0.37\n",
       "Age_day             0.33\n",
       "BlastFurnaceSlag    0.13\n",
       "FlyAsh             -0.11\n",
       "CoarseAggregate    -0.16\n",
       "FineAggregate      -0.17\n",
       "WaterMix           -0.29\n",
       "Name: ConcreteStrength, dtype: float64"
      ]
     },
     "execution_count": 4,
     "metadata": {},
     "output_type": "execute_result"
    }
   ],
   "source": [
    "corr_rank = data.corr()\n",
    "corr_rank[\"ConcreteStrength\"].sort_values(ascending=False)"
   ]
  },
  {
   "cell_type": "code",
   "execution_count": 5,
   "metadata": {},
   "outputs": [
    {
     "data": {
      "text/html": [
       "<div>\n",
       "<style scoped>\n",
       "    .dataframe tbody tr th:only-of-type {\n",
       "        vertical-align: middle;\n",
       "    }\n",
       "\n",
       "    .dataframe tbody tr th {\n",
       "        vertical-align: top;\n",
       "    }\n",
       "\n",
       "    .dataframe thead th {\n",
       "        text-align: right;\n",
       "    }\n",
       "</style>\n",
       "<table border=\"1\" class=\"dataframe\">\n",
       "  <thead>\n",
       "    <tr style=\"text-align: right;\">\n",
       "      <th></th>\n",
       "      <th>CementMix</th>\n",
       "      <th>ConcreteStrength</th>\n",
       "    </tr>\n",
       "  </thead>\n",
       "  <tbody>\n",
       "    <tr>\n",
       "      <th>0</th>\n",
       "      <td>540.00</td>\n",
       "      <td>79.99</td>\n",
       "    </tr>\n",
       "    <tr>\n",
       "      <th>1</th>\n",
       "      <td>540.00</td>\n",
       "      <td>61.89</td>\n",
       "    </tr>\n",
       "    <tr>\n",
       "      <th>2</th>\n",
       "      <td>332.50</td>\n",
       "      <td>40.27</td>\n",
       "    </tr>\n",
       "    <tr>\n",
       "      <th>3</th>\n",
       "      <td>332.50</td>\n",
       "      <td>41.05</td>\n",
       "    </tr>\n",
       "    <tr>\n",
       "      <th>4</th>\n",
       "      <td>198.60</td>\n",
       "      <td>44.30</td>\n",
       "    </tr>\n",
       "  </tbody>\n",
       "</table>\n",
       "</div>"
      ],
      "text/plain": [
       "   CementMix  ConcreteStrength\n",
       "0     540.00             79.99\n",
       "1     540.00             61.89\n",
       "2     332.50             40.27\n",
       "3     332.50             41.05\n",
       "4     198.60             44.30"
      ]
     },
     "execution_count": 5,
     "metadata": {},
     "output_type": "execute_result"
    }
   ],
   "source": [
    "#extract selected column to create new dataframe\n",
    "datax = data.filter(['CementMix','ConcreteStrength'], axis=1)\n",
    "datax.head()"
   ]
  },
  {
   "cell_type": "code",
   "execution_count": 6,
   "metadata": {},
   "outputs": [
    {
     "name": "stdout",
     "output_type": "stream",
     "text": [
      "<class 'pandas.core.frame.DataFrame'>\n",
      "RangeIndex: 1030 entries, 0 to 1029\n",
      "Data columns (total 2 columns):\n",
      "CementMix           1030 non-null float64\n",
      "ConcreteStrength    1030 non-null float64\n",
      "dtypes: float64(2)\n",
      "memory usage: 16.2 KB\n"
     ]
    }
   ],
   "source": [
    "datax.info()"
   ]
  },
  {
   "cell_type": "markdown",
   "metadata": {},
   "source": [
    "## Feature and Target"
   ]
  },
  {
   "cell_type": "code",
   "execution_count": 7,
   "metadata": {},
   "outputs": [],
   "source": [
    "#define feature and target data\n",
    "x = datax.iloc[:,:-1].values\n",
    "y = datax.iloc[:,1].values\n",
    "\n",
    "#split data to 10-test, 2-train\n",
    "xTrain, xTest, yTrain, yTest = train_test_split(x,y,test_size = 1/3, random_state=0)"
   ]
  },
  {
   "cell_type": "code",
   "execution_count": 8,
   "metadata": {},
   "outputs": [
    {
     "data": {
      "text/plain": [
       "True"
      ]
     },
     "execution_count": 8,
     "metadata": {},
     "output_type": "execute_result"
    }
   ],
   "source": [
    "len(x) == len(y)"
   ]
  },
  {
   "cell_type": "markdown",
   "metadata": {},
   "source": [
    "## Linear"
   ]
  },
  {
   "cell_type": "code",
   "execution_count": 9,
   "metadata": {},
   "outputs": [
    {
     "data": {
      "image/png": "[encoded data removed]",
      "text/plain": [
       "<Figure size 432x288 with 1 Axes>"
      ]
     },
     "metadata": {
      "needs_background": "light"
     },
     "output_type": "display_data"
    }
   ],
   "source": [
    "#linear Regression\n",
    "lr = LinearRegression()\n",
    "lr.fit(xTrain, yTrain)\n",
    "yPred = lr.predict(xTest)\n",
    "\n",
    "#plot chart \n",
    "plot.scatter(xTrain, yTrain, color='red')\n",
    "plot.plot(xTrain, lr.predict(xTrain),color='blue')\n",
    "plot.title('CementMix vs ConcreteStrength')\n",
    "plot.xlabel('CementMix')\n",
    "plot.ylabel('ConcreteStrength')\n",
    "plot.show()"
   ]
  },
  {
   "cell_type": "code",
   "execution_count": 10,
   "metadata": {},
   "outputs": [
    {
     "name": "stdout",
     "output_type": "stream",
     "text": [
      "Model score : 0.2547\n",
      "Coef        : [0.0819]\n",
      "Intercept   : 12.8642\n"
     ]
    }
   ],
   "source": [
    "#print model score, coef and intercept\n",
    "print('Model score :', round(lr.score(xTrain, yTrain),4))\n",
    "print('Coef        :', lr.coef_)\n",
    "print('Intercept   :', round(lr.intercept_,4))"
   ]
  },
  {
   "cell_type": "markdown",
   "metadata": {},
   "source": [
    "## Prediction"
   ]
  },
  {
   "cell_type": "code",
   "execution_count": 12,
   "metadata": {},
   "outputs": [
    {
     "data": {
      "text/plain": [
       "array([57.0853])"
      ]
     },
     "execution_count": 12,
     "metadata": {},
     "output_type": "execute_result"
    }
   ],
   "source": [
    "#prediction using given data\n",
    "new_rso = 540\n",
    "predict_sbo = lr.predict([[new_rso]])\n",
    "predict_sbo"
   ]
  },
  {
   "cell_type": "code",
   "execution_count": null,
   "metadata": {},
   "outputs": [],
   "source": []
  }
 ],
 "metadata": {
  "kernelspec": {
   "display_name": "Python 3",
   "language": "python",
   "name": "python3"
  },
  "language_info": {
   "codemirror_mode": {
    "name": "ipython",
    "version": 3
   },
   "file_extension": ".py",
   "mimetype": "text/x-python",
   "name": "python",
   "nbconvert_exporter": "python",
   "pygments_lexer": "ipython3",
   "version": "3.7.1"
  }
 },
 "nbformat": 4,
 "nbformat_minor": 2
}
